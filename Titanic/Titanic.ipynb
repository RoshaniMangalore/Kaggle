{
  "cells": [
    {
      "metadata": {
        "_uuid": "756e3b04a05624d74fff780c8df379a656ec3de4",
        "_cell_guid": "58b85b2e-739f-4e06-84b7-b265737b51fa",
        "scrolled": true,
        "trusted": false,
        "collapsed": true
      },
      "cell_type": "code",
      "source": "import numpy as np # linear algebra\nimport pandas as pd # data processing, CSV file I/O (e.g. pd.read_csv)\nimport matplotlib.pyplot as plt\nimport seaborn as sns\nfrom sklearn.linear_model import LogisticRegression\n\n# Input data files are available in the \"../input/\" directory.\ntitanictrain_df=pd.read_csv(\"../input/train.csv\")\ntitanictest_df=pd.read_csv(\"../input/test.csv\")\n\n#drop unnecessary features\ntitanictrain_df=titanictrain_df.drop(['PassengerId','Name','Ticket'],axis=1)\n\n#Analysis of Individual Features\n#Feature1: Embarked\n#find the most occured value for Embarked to fill the missing values\ntitanictrain_df.groupby(\"Embarked\").agg([\"count\",\"mean\"])\n\n#'S' has maximum count, fill the missing values with 'S'\ntitanictrain_df[\"Embarked\"]=titanictrain_df[\"Embarked\"].fillna(\"S\")\ntitanictest_df=titanictest_df.drop(['Name','Ticket'],axis=1)\n\n#plot\nsns.factorplot('Embarked','Survived',data=titanictrain_df,kind=\"bar\")\nplt.show()\n\nfig, (axis1, axis2, axis3) = plt.subplots(1,3,figsize=(15,5))\nsns.countplot(x='Embarked',data=titanictrain_df,ax=axis1)\nsns.countplot(x='Survived',hue=\"Embarked\",data=titanictrain_df,order=[1,0],ax=axis2)\nmean_df=titanictrain_df[[\"Embarked\",\"Survived\"]].groupby(['Embarked'],as_index=False).mean()\nsns.barplot(x='Embarked',y='Survived',data=mean_df,order=['S','C','Q'],ax=axis3)\n\n\nembark_train_dummy=pd.get_dummies(titanictrain_df['Embarked'])\nembark_train_dummy.drop(['S'],axis=1,inplace=True)\nembark_test_dummy=pd.get_dummies(titanictest_df['Embarked'])\nembark_test_dummy.drop(['S'],axis=1,inplace=True)\n\ntitanictrain_df=titanictrain_df.join(embark_train_dummy)\ntitanictest_df=titanictest_df.join(embark_test_dummy)\n\ntitanictrain_df.drop(['Embarked'],axis=1,inplace=True)\ntitanictest_df.drop(['Embarked'],axis=1,inplace=True)\n",
      "execution_count": null,
      "outputs": []
    },
    {
      "metadata": {
        "_uuid": "727b1bc4177dec305852f1ca567978f9ca09b220",
        "_cell_guid": "76da1338-b3a1-4908-8300-cbd945a53fab",
        "trusted": false,
        "collapsed": true
      },
      "cell_type": "code",
      "source": "#Feature2: Fare\nfor x in titanictest_df['Fare']:\n    if pd.isnull(x):\n        print(\"Null values\")\n\ntitanictest_df[\"Fare\"].fillna(titanictest_df[\"Fare\"].median(),inplace=True)\n#convert fare from float to int\ntitanictrain_df[\"Fare\"]=titanictrain_df[\"Fare\"].astype(int)\ntitanictest_df[\"Fare\"]=titanictest_df[\"Fare\"].astype(int)\n",
      "execution_count": null,
      "outputs": []
    },
    {
      "metadata": {
        "_uuid": "d72dd2acb7233af751c96adaf8172bf0f763fcaa",
        "_cell_guid": "8ad20afd-c1c0-45e3-a8cf-8e049fe311c8",
        "trusted": false,
        "collapsed": true
      },
      "cell_type": "code",
      "source": "#Feature 3: Age\n#get average titanic, std titanic and count titanic null values\navg_titanic_train=titanictrain_df[\"Age\"].mean()\nstd_titanic_train=titanictrain_df[\"Age\"].std()\ncount_titanic_train=titanictrain_df[\"Age\"].isnull().sum()\n\navg_titanic_test=titanictest_df[\"Age\"].mean()\nstd_titanic_test=titanictest_df[\"Age\"].std()\ncount_titanic_test=titanictest_df[\"Age\"].isnull().sum()\n\n\n#generate random number between mean and std deviation\nrand_1=np.random.randint(avg_titanic_train-std_titanic_train,avg_titanic_train+std_titanic_train,size=count_titanic_train)\nrand_2=np.random.randint(avg_titanic_test-std_titanic_test,avg_titanic_test+std_titanic_test,size=count_titanic_test)\n\ntitanictest_df[\"Age\"][np.isnan(titanictest_df[\"Age\"])]=rand_2\ntitanictrain_df[\"Age\"][np.isnan(titanictrain_df[\"Age\"])]=rand_1\n\ntitanictrain_df[\"Age\"]=titanictrain_df[\"Age\"].astype(int)\ntitanictest_df[\"Age\"]=titanictest_df[\"Age\"].astype(int)\n",
      "execution_count": null,
      "outputs": []
    },
    {
      "metadata": {
        "_uuid": "745a610ccc02930fab7c6afd121fab9319eaa748",
        "_cell_guid": "9e3f3a67-2e17-43de-b223-96e8b30f8280",
        "trusted": false,
        "collapsed": true
      },
      "cell_type": "code",
      "source": "#Feature 4: Cabin\n\ntitanictest_df=titanictest_df.drop(\"Cabin\",axis=1)\ntitanictrain_df=titanictrain_df.drop(\"Cabin\",axis=1)\n\ntitanictrain_df.head()",
      "execution_count": null,
      "outputs": []
    },
    {
      "metadata": {
        "_uuid": "4ec2d195a3ac4ee36e003f50d7c87601f001b077",
        "_cell_guid": "8b99b8da-143d-4303-9bb2-05697d9f5805",
        "trusted": false,
        "collapsed": true
      },
      "cell_type": "code",
      "source": "#Feature 5: Family\n# Instead of having two columns Parch & SibSp, \n# we can have only one column represent if the passenger had any family member aboard or not,\ntitanictrain_df[\"Family\"]=titanictrain_df[\"SibSp\"]+titanictrain_df[\"Parch\"]\ntitanictrain_df[\"Family\"].loc[titanictrain_df[\"Family\"]>0]=1\ntitanictrain_df[\"Family\"].loc[titanictrain_df[\"Family\"]==0]=0\n\ntitanictest_df[\"Family\"]=titanictest_df[\"SibSp\"]+titanictest_df[\"Parch\"]\ntitanictest_df[\"Family\"].loc[titanictest_df[\"Family\"]>0]=1\ntitanictest_df[\"Family\"].loc[titanictest_df[\"Family\"]==0]=0\n\ntitanictrain_df=titanictrain_df.drop(['SibSp','Parch'],axis=1)\ntitanictest_df=titanictest_df.drop(['SibSp','Parch'],axis=1)\n",
      "execution_count": null,
      "outputs": []
    },
    {
      "metadata": {
        "_uuid": "37bdb00b67e3f50d97ce29f69e38f84a3dd748fb",
        "_cell_guid": "6415042e-53e0-423e-80d5-7f42a5045570",
        "collapsed": true,
        "trusted": false
      },
      "cell_type": "code",
      "source": "#Feature 6: Sex\n\n# As we see, children(age < ~16) on aboard seem to have a high chances for Survival.\n# So, we can classify passengers as males, females, and child\ndef get_person(passenger):\n  age,sex = passenger\n  return 'child' if age < 16 else sex\n    \ntitanictrain_df['Person'] = titanictrain_df[['Age','Sex']].apply(get_person,axis=1)\ntitanictest_df['Person']    = titanictest_df[['Age','Sex']].apply(get_person,axis=1)\n\ntitanictrain_df.drop(['Sex'],axis=1,inplace=True)\ntitanictest_df.drop(['Sex'],axis=1,inplace=True)\n\n#remove male from person coz men are the least saved ones\nperson_dummy_train=pd.get_dummies(titanictrain_df['Person'])\nperson_dummy_train.columns=['Child','Female','Male']\nperson_dummy_train.drop(['Male'],axis=1,inplace=True)\n\nperson_dummy_test=pd.get_dummies(titanictest_df['Person'])\nperson_dummy_test.columns=['Child','Female','Male']\nperson_dummy_test.drop(['Male'],axis=1,inplace=True)\n\ntitanictrain_df=titanictrain_df.join(person_dummy_train)\ntitanictest_df=titanictest_df.join(person_dummy_test)\ntitanictrain_df.drop(['Person'],axis=1,inplace=True)\ntitanictest_df.drop(['Person'],axis=1,inplace=True)\n",
      "execution_count": null,
      "outputs": []
    },
    {
      "metadata": {
        "_uuid": "a5b4ed551a430b5d77a3d78a2606425bfb6d0faf",
        "_cell_guid": "9b31d22b-ca9e-4fb6-9a0e-57b052def589",
        "trusted": false,
        "collapsed": true
      },
      "cell_type": "code",
      "source": "#Feature 7:  Pclass\n#sns.factorplot('Pclass','Survived',order=[1,2,3], data=titanictrain_df,size=5)\n\n# create dummy variables for Pclass column, & drop 3rd class as it has the lowest average of survived passengers\npclass_dummies_train = pd.get_dummies(titanictrain_df['Pclass'])\npclass_dummies_train.columns=['Class_1','Class_2','Class_3']\npclass_dummies_train.drop(['Class_3'],axis=1, inplace=True)\n\npclass_dummies_test = pd.get_dummies(titanictest_df['Pclass'])\npclass_dummies_test.columns=['Class_1','Class_2','Class_3']\npclass_dummies_test.drop(['Class_3'],axis=1, inplace=True)\n\ntitanictrain_df=titanictrain_df.join(pclass_dummies_train)\ntitanictest_df=titanictest_df.join(pclass_dummies_test)\n\ntitanictrain_df.drop(['Pclass'],axis=1,inplace=True)\ntitanictest_df.drop(['Pclass'],axis=1,inplace=True)\n\ntitanictrain_df.head()",
      "execution_count": null,
      "outputs": []
    },
    {
      "metadata": {
        "_uuid": "17d91841b39ddd18720a335f1f679f3cf5b12f40",
        "_cell_guid": "78c28590-2bb7-4c28-8709-85a20024b021",
        "collapsed": true,
        "trusted": false
      },
      "cell_type": "code",
      "source": "#Define Training and Testing sets\n\nX_Train = titanictrain_df.drop(\"Survived\",axis=1)\nY_Train = titanictrain_df[\"Survived\"]\nX_Test = titanictest_df.drop(\"PassengerId\",axis=1).copy()",
      "execution_count": null,
      "outputs": []
    },
    {
      "metadata": {
        "_uuid": "10e965375851f1d74e58201b90cc2931c647742b",
        "_cell_guid": "e2eae1cd-c3b5-4963-a903-4771f417ee52",
        "trusted": false,
        "collapsed": true
      },
      "cell_type": "code",
      "source": "#Logistic Regression\nlogreg = LogisticRegression()\nlogreg.fit(X_Train, Y_Train)\nY_pred = logreg.predict(X_Test)\nlogreg.score(X_Train,Y_Train)\n",
      "execution_count": null,
      "outputs": []
    },
    {
      "metadata": {
        "_uuid": "18c6ea7d59cde6ad4d24ab7a33ba2263ea8c32a9",
        "_cell_guid": "469161db-0d69-44ed-85b9-594ca7a6bccb",
        "collapsed": true,
        "trusted": false
      },
      "cell_type": "code",
      "source": "",
      "execution_count": null,
      "outputs": []
    }
  ],
  "metadata": {
    "language_info": {
      "mimetype": "text/x-python",
      "nbconvert_exporter": "python",
      "name": "python",
      "version": "3.6.3",
      "codemirror_mode": {
        "version": 3,
        "name": "ipython"
      },
      "pygments_lexer": "ipython3",
      "file_extension": ".py"
    },
    "kernelspec": {
      "display_name": "Python 3",
      "language": "python",
      "name": "python3"
    }
  },
  "nbformat": 4,
  "nbformat_minor": 1
}